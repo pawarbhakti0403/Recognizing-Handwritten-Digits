{
  "nbformat": 4,
  "nbformat_minor": 0,
  "metadata": {
    "colab": {
      "name": "Project-2.ipynb",
      "provenance": [],
      "collapsed_sections": []
    },
    "kernelspec": {
      "name": "python3",
      "display_name": "Python 3"
    },
    "language_info": {
      "name": "python"
    }
  },
  "cells": [
    {
      "cell_type": "markdown",
      "source": [
        "Loading dataset"
      ],
      "metadata": {
        "id": "HOR8RzEUzgOq"
      }
    },
    {
      "cell_type": "code",
      "source": [
        "from sklearn import datasets\n",
        "digits=datasets.load_digits()"
      ],
      "metadata": {
        "id": "BUICyw9Asu9l"
      },
      "execution_count": 1,
      "outputs": []
    },
    {
      "cell_type": "markdown",
      "source": [
        "Full description of the dataset"
      ],
      "metadata": {
        "id": "SNoQvI2Bz5Fs"
      }
    },
    {
      "cell_type": "code",
      "source": [
        "print(digits.DESCR)"
      ],
      "metadata": {
        "colab": {
          "base_uri": "https://localhost:8080/"
        },
        "id": "kO0OMDjwzvD5",
        "outputId": "396d3efe-3585-4b42-acc1-ac0248e18602"
      },
      "execution_count": 2,
      "outputs": [
        {
          "output_type": "stream",
          "name": "stdout",
          "text": [
            ".. _digits_dataset:\n",
            "\n",
            "Optical recognition of handwritten digits dataset\n",
            "--------------------------------------------------\n",
            "\n",
            "**Data Set Characteristics:**\n",
            "\n",
            "    :Number of Instances: 1797\n",
            "    :Number of Attributes: 64\n",
            "    :Attribute Information: 8x8 image of integer pixels in the range 0..16.\n",
            "    :Missing Attribute Values: None\n",
            "    :Creator: E. Alpaydin (alpaydin '@' boun.edu.tr)\n",
            "    :Date: July; 1998\n",
            "\n",
            "This is a copy of the test set of the UCI ML hand-written digits datasets\n",
            "https://archive.ics.uci.edu/ml/datasets/Optical+Recognition+of+Handwritten+Digits\n",
            "\n",
            "The data set contains images of hand-written digits: 10 classes where\n",
            "each class refers to a digit.\n",
            "\n",
            "Preprocessing programs made available by NIST were used to extract\n",
            "normalized bitmaps of handwritten digits from a preprinted form. From a\n",
            "total of 43 people, 30 contributed to the training set and different 13\n",
            "to the test set. 32x32 bitmaps are divided into nonoverlapping blocks of\n",
            "4x4 and the number of on pixels are counted in each block. This generates\n",
            "an input matrix of 8x8 where each element is an integer in the range\n",
            "0..16. This reduces dimensionality and gives invariance to small\n",
            "distortions.\n",
            "\n",
            "For info on NIST preprocessing routines, see M. D. Garris, J. L. Blue, G.\n",
            "T. Candela, D. L. Dimmick, J. Geist, P. J. Grother, S. A. Janet, and C.\n",
            "L. Wilson, NIST Form-Based Handprint Recognition System, NISTIR 5469,\n",
            "1994.\n",
            "\n",
            ".. topic:: References\n",
            "\n",
            "  - C. Kaynak (1995) Methods of Combining Multiple Classifiers and Their\n",
            "    Applications to Handwritten Digit Recognition, MSc Thesis, Institute of\n",
            "    Graduate Studies in Science and Engineering, Bogazici University.\n",
            "  - E. Alpaydin, C. Kaynak (1998) Cascading Classifiers, Kybernetika.\n",
            "  - Ken Tang and Ponnuthurai N. Suganthan and Xi Yao and A. Kai Qin.\n",
            "    Linear dimensionalityreduction using relevance weighted LDA. School of\n",
            "    Electrical and Electronic Engineering Nanyang Technological University.\n",
            "    2005.\n",
            "  - Claudio Gentile. A New Approximate Maximal Margin Classification\n",
            "    Algorithm. NIPS. 2000.\n",
            "\n"
          ]
        }
      ]
    },
    {
      "cell_type": "markdown",
      "source": [
        "The numerical value represented by images ie. targets are cotained in digits.target"
      ],
      "metadata": {
        "id": "QFT0fKkjG03H"
      }
    },
    {
      "cell_type": "code",
      "source": [
        "digits.target"
      ],
      "metadata": {
        "id": "D31bu16O0BIz",
        "colab": {
          "base_uri": "https://localhost:8080/"
        },
        "outputId": "01ca76bd-7387-455b-d886-c97b6a537509"
      },
      "execution_count": 3,
      "outputs": [
        {
          "output_type": "execute_result",
          "data": {
            "text/plain": [
              "array([0, 1, 2, ..., 8, 9, 8])"
            ]
          },
          "metadata": {},
          "execution_count": 3
        }
      ]
    },
    {
      "cell_type": "code",
      "source": [
        "digits.target.size  #there are 1797 values represented by images"
      ],
      "metadata": {
        "colab": {
          "base_uri": "https://localhost:8080/"
        },
        "id": "hP_ktA0RJrQ_",
        "outputId": "e87cf5c6-df0d-441a-992e-77b2a5d329b5"
      },
      "execution_count": 4,
      "outputs": [
        {
          "output_type": "execute_result",
          "data": {
            "text/plain": [
              "1797"
            ]
          },
          "metadata": {},
          "execution_count": 4
        }
      ]
    },
    {
      "cell_type": "code",
      "source": [
        "digits.data.shape  #Shape of the dataset"
      ],
      "metadata": {
        "colab": {
          "base_uri": "https://localhost:8080/"
        },
        "id": "9O9fI9EWGzTk",
        "outputId": "d934f41d-4de9-459b-8f02-a93cb05d251a"
      },
      "execution_count": 5,
      "outputs": [
        {
          "output_type": "execute_result",
          "data": {
            "text/plain": [
              "(1797, 64)"
            ]
          },
          "metadata": {},
          "execution_count": 5
        }
      ]
    },
    {
      "cell_type": "markdown",
      "source": [
        "The images of handwritten digits are contained in digits.images array.Each element of this array is an image that is represented by an 8x8 matrix of numerical values that correspond to a grayscale from white,with the value of 0,to black with the value of 15"
      ],
      "metadata": {
        "id": "bwXKPl9tIYIz"
      }
    },
    {
      "cell_type": "code",
      "source": [
        "digits.images[0]"
      ],
      "metadata": {
        "colab": {
          "base_uri": "https://localhost:8080/"
        },
        "id": "UNs_KbjuH6J-",
        "outputId": "f13e4844-1d36-4396-8850-253e93ce57a1"
      },
      "execution_count": 6,
      "outputs": [
        {
          "output_type": "execute_result",
          "data": {
            "text/plain": [
              "array([[ 0.,  0.,  5., 13.,  9.,  1.,  0.,  0.],\n",
              "       [ 0.,  0., 13., 15., 10., 15.,  5.,  0.],\n",
              "       [ 0.,  3., 15.,  2.,  0., 11.,  8.,  0.],\n",
              "       [ 0.,  4., 12.,  0.,  0.,  8.,  8.,  0.],\n",
              "       [ 0.,  5.,  8.,  0.,  0.,  9.,  8.,  0.],\n",
              "       [ 0.,  4., 11.,  0.,  1., 12.,  7.,  0.],\n",
              "       [ 0.,  2., 14.,  5., 10., 12.,  0.,  0.],\n",
              "       [ 0.,  0.,  6., 13., 10.,  0.,  0.,  0.]])"
            ]
          },
          "metadata": {},
          "execution_count": 6
        }
      ]
    },
    {
      "cell_type": "markdown",
      "source": [
        "Visualizing an array"
      ],
      "metadata": {
        "id": "m7q4-BIfLKSN"
      }
    },
    {
      "cell_type": "code",
      "source": [
        "import matplotlib.pyplot as plt\n",
        "plt.imshow(digits.images[0],cmap=plt.cm.gray_r,interpolation='nearest')\n",
        "plt.title(\"Visualization of an array\")"
      ],
      "metadata": {
        "colab": {
          "base_uri": "https://localhost:8080/",
          "height": 299
        },
        "id": "LO7nqQvPIE8C",
        "outputId": "689025e3-53d8-4692-ca0b-457e0e43af50"
      },
      "execution_count": 7,
      "outputs": [
        {
          "output_type": "execute_result",
          "data": {
            "text/plain": [
              "Text(0.5, 1.0, 'Visualization of an array')"
            ]
          },
          "metadata": {},
          "execution_count": 7
        },
        {
          "output_type": "display_data",
          "data": {
            "text/plain": [
              "<Figure size 432x288 with 1 Axes>"
            ],
            "image/png": "[encoded data removed]"
          },
          "metadata": {
            "needs_background": "light"
          }
        }
      ]
    },
    {
      "cell_type": "markdown",
      "source": [
        "Visualization of digits"
      ],
      "metadata": {
        "id": "gbeQqeP9OwFA"
      }
    },
    {
      "cell_type": "code",
      "source": [
        "import numpy as np\n",
        "plt.figure(figsize=(14,4))\n",
        "plt.subplots_adjust(hspace=0.8)\n",
        "images_and_labels=list(zip(digits.images,digits.target))\n",
        "\n",
        "for index,(image,label) in enumerate(images_and_labels[:10]):\n",
        "  plt.subplot(2,5,index+1)  #Because of index+1, 0 to 9 images are visible, otherwise only 9 is visible\n",
        "  plt.imshow(image,cmap=plt.cm.gray_r,interpolation='nearest')\n",
        "  plt.title(index)\n"
      ],
      "metadata": {
        "colab": {
          "base_uri": "https://localhost:8080/",
          "height": 281
        },
        "id": "AhEdoLWeLj4M",
        "outputId": "058cda1e-4220-4206-9bbf-c323c01706b0"
      },
      "execution_count": 8,
      "outputs": [
        {
          "output_type": "display_data",
          "data": {
            "text/plain": [
              "<Figure size 1008x288 with 10 Axes>"
            ],
            "image/png": "[encoded data removed]"
          },
          "metadata": {
            "needs_background": "light"
          }
        }
      ]
    },
    {
      "cell_type": "markdown",
      "source": [
        "Flatten the images"
      ],
      "metadata": {
        "id": "TJ6lSubTrqoQ"
      }
    },
    {
      "cell_type": "code",
      "source": [
        "n_samples=len(digits.images)\n",
        "n_samples"
      ],
      "metadata": {
        "id": "8PBz-sahQ0wk",
        "colab": {
          "base_uri": "https://localhost:8080/"
        },
        "outputId": "cb978ead-b2de-421d-bea3-62f547fca678"
      },
      "execution_count": 9,
      "outputs": [
        {
          "output_type": "execute_result",
          "data": {
            "text/plain": [
              "1797"
            ]
          },
          "metadata": {},
          "execution_count": 9
        }
      ]
    },
    {
      "cell_type": "code",
      "source": [
        "data=digits.images.reshape((n_samples,-1))\n",
        "data"
      ],
      "metadata": {
        "colab": {
          "base_uri": "https://localhost:8080/"
        },
        "id": "HyZiaNO9ryIg",
        "outputId": "773480cc-bd19-424d-b7a7-bcfec1f7d256"
      },
      "execution_count": 10,
      "outputs": [
        {
          "output_type": "execute_result",
          "data": {
            "text/plain": [
              "array([[ 0.,  0.,  5., ...,  0.,  0.,  0.],\n",
              "       [ 0.,  0.,  0., ..., 10.,  0.,  0.],\n",
              "       [ 0.,  0.,  0., ..., 16.,  9.,  0.],\n",
              "       ...,\n",
              "       [ 0.,  0.,  1., ...,  6.,  0.,  0.],\n",
              "       [ 0.,  0.,  2., ..., 12.,  0.,  0.],\n",
              "       [ 0.,  0., 10., ..., 12.,  1.,  0.]])"
            ]
          },
          "metadata": {},
          "execution_count": 10
        }
      ]
    },
    {
      "cell_type": "markdown",
      "source": [
        "**Hypothesis to be tested:** Digit dataset of Scikit-Learn's library predicts the digits accurately 95% of the time."
      ],
      "metadata": {
        "id": "xoJD_V8MsR5k"
      }
    },
    {
      "cell_type": "markdown",
      "source": [
        "**Test Cases:**"
      ],
      "metadata": {
        "id": "du0mZsKgzOMx"
      }
    },
    {
      "cell_type": "markdown",
      "source": [
        "**Case-1:** Here we have split the data by assigning 0.01 as test size"
      ],
      "metadata": {
        "id": "Oh_a4hNmzSz9"
      }
    },
    {
      "cell_type": "code",
      "source": [
        "from sklearn.model_selection import  train_test_split\n",
        "x_train,x_test,y_train,y_test=train_test_split(data,digits.target,test_size=0.01,random_state=0)"
      ],
      "metadata": {
        "id": "YXT8Z-eFr7et"
      },
      "execution_count": 11,
      "outputs": []
    },
    {
      "cell_type": "markdown",
      "source": [
        "Training the model"
      ],
      "metadata": {
        "id": "NXRGz8bt0OgF"
      }
    },
    {
      "cell_type": "code",
      "source": [
        "from sklearn.svm import SVC\n",
        "svc=SVC(gamma=0.001,C=100.)\n",
        "\n"
      ],
      "metadata": {
        "id": "f10QzblV0Ab0"
      },
      "execution_count": 12,
      "outputs": []
    },
    {
      "cell_type": "code",
      "source": [
        "svc.fit(x_train,y_train)"
      ],
      "metadata": {
        "colab": {
          "base_uri": "https://localhost:8080/"
        },
        "id": "MqB8B7Ee0mA2",
        "outputId": "d861c4b2-5b0b-4eda-e60f-6f6a5f0c7a4f"
      },
      "execution_count": 13,
      "outputs": [
        {
          "output_type": "execute_result",
          "data": {
            "text/plain": [
              "SVC(C=100.0, gamma=0.001)"
            ]
          },
          "metadata": {},
          "execution_count": 13
        }
      ]
    },
    {
      "cell_type": "markdown",
      "source": [
        "Predicting the output"
      ],
      "metadata": {
        "id": "S3DLbIMs1GEK"
      }
    },
    {
      "cell_type": "code",
      "source": [
        "y_pred=svc.predict(x_test)"
      ],
      "metadata": {
        "id": "PGE9MwG41BVt"
      },
      "execution_count": 14,
      "outputs": []
    },
    {
      "cell_type": "code",
      "source": [
        "y_pred"
      ],
      "metadata": {
        "colab": {
          "base_uri": "https://localhost:8080/"
        },
        "id": "fC2ns8x01PfT",
        "outputId": "2233f02d-6bd5-4a73-e93c-b2d6eb393f29"
      },
      "execution_count": 15,
      "outputs": [
        {
          "output_type": "execute_result",
          "data": {
            "text/plain": [
              "array([2, 8, 2, 6, 6, 7, 1, 9, 8, 5, 2, 8, 6, 6, 6, 6, 1, 0])"
            ]
          },
          "metadata": {},
          "execution_count": 15
        }
      ]
    },
    {
      "cell_type": "markdown",
      "source": [
        "Test  samples and their predicted digits"
      ],
      "metadata": {
        "id": "gnVxsqch2q33"
      }
    },
    {
      "cell_type": "code",
      "source": [
        "images_and_predictions=list(zip(x_test,y_pred))\n",
        "plt.figure(figsize=(18,5))\n",
        "plt.subplots_adjust(0.2)\n",
        "\n",
        "for index,(image,prediction) in enumerate(images_and_predictions[:19]):\n",
        "  image=image.reshape(8,8)\n",
        "  plt.subplot(2,9,index+1)\n",
        "  plt.imshow(image,cmap=plt.cm.gray_r,interpolation='nearest')\n",
        "  plt.title(\"Predict : {0}\".format(prediction))\n"
      ],
      "metadata": {
        "colab": {
          "base_uri": "https://localhost:8080/",
          "height": 298
        },
        "id": "jriRluX-1Qlw",
        "outputId": "c5c05178-81c8-4c6d-b569-b14aaa2b89d5"
      },
      "execution_count": 16,
      "outputs": [
        {
          "output_type": "display_data",
          "data": {
            "text/plain": [
              "<Figure size 1296x360 with 18 Axes>"
            ],
            "image/png": "[encoded data removed]"
          },
          "metadata": {
            "needs_background": "light"
          }
        }
      ]
    },
    {
      "cell_type": "markdown",
      "source": [
        "Evaluation"
      ],
      "metadata": {
        "id": "gZeTFcTs71JO"
      }
    },
    {
      "cell_type": "code",
      "source": [
        "score=svc.score(x_test,y_test)\n",
        "print(\"Accuracy Score: {0}\".format(score))   #Model is 100% accurate"
      ],
      "metadata": {
        "colab": {
          "base_uri": "https://localhost:8080/"
        },
        "id": "TyjKxWqE3YaD",
        "outputId": "233d85ca-fb23-4c38-b367-1a66b3048e23"
      },
      "execution_count": 17,
      "outputs": [
        {
          "output_type": "stream",
          "name": "stdout",
          "text": [
            "Accuracy Score: 1.0\n"
          ]
        }
      ]
    },
    {
      "cell_type": "code",
      "source": [
        "from sklearn.metrics import confusion_matrix\n",
        "cm=confusion_matrix(y_test,y_pred)\n",
        "cm"
      ],
      "metadata": {
        "colab": {
          "base_uri": "https://localhost:8080/"
        },
        "id": "omlVXjBL8Fw7",
        "outputId": "76411b83-c7fb-4185-ba6c-9b249a598d5a"
      },
      "execution_count": 18,
      "outputs": [
        {
          "output_type": "execute_result",
          "data": {
            "text/plain": [
              "array([[1, 0, 0, 0, 0, 0, 0, 0],\n",
              "       [0, 2, 0, 0, 0, 0, 0, 0],\n",
              "       [0, 0, 3, 0, 0, 0, 0, 0],\n",
              "       [0, 0, 0, 1, 0, 0, 0, 0],\n",
              "       [0, 0, 0, 0, 6, 0, 0, 0],\n",
              "       [0, 0, 0, 0, 0, 1, 0, 0],\n",
              "       [0, 0, 0, 0, 0, 0, 3, 0],\n",
              "       [0, 0, 0, 0, 0, 0, 0, 1]])"
            ]
          },
          "metadata": {},
          "execution_count": 18
        }
      ]
    },
    {
      "cell_type": "code",
      "source": [
        "from sklearn.metrics import classification_report\n",
        "cr=classification_report(y_test,y_pred)\n",
        "print(\"\\n\",cr)"
      ],
      "metadata": {
        "colab": {
          "base_uri": "https://localhost:8080/"
        },
        "id": "4PIj0W5r-sI8",
        "outputId": "6c9d7cb9-78e9-4700-fd21-9be041251481"
      },
      "execution_count": 19,
      "outputs": [
        {
          "output_type": "stream",
          "name": "stdout",
          "text": [
            "\n",
            "               precision    recall  f1-score   support\n",
            "\n",
            "           0       1.00      1.00      1.00         1\n",
            "           1       1.00      1.00      1.00         2\n",
            "           2       1.00      1.00      1.00         3\n",
            "           5       1.00      1.00      1.00         1\n",
            "           6       1.00      1.00      1.00         6\n",
            "           7       1.00      1.00      1.00         1\n",
            "           8       1.00      1.00      1.00         3\n",
            "           9       1.00      1.00      1.00         1\n",
            "\n",
            "    accuracy                           1.00        18\n",
            "   macro avg       1.00      1.00      1.00        18\n",
            "weighted avg       1.00      1.00      1.00        18\n",
            "\n"
          ]
        }
      ]
    },
    {
      "cell_type": "markdown",
      "source": [
        "**Case-2:** Here we have split the data by assigning 0.5 as test size"
      ],
      "metadata": {
        "id": "ao0PHJCZ_bIG"
      }
    },
    {
      "cell_type": "code",
      "source": [
        "from sklearn.model_selection import train_test_split\n",
        "x_train,x_test,y_train,y_test=train_test_split(digits.data,digits.target,test_size=0.5,random_state=0)"
      ],
      "metadata": {
        "id": "PEFTpqWP_Lue"
      },
      "execution_count": 20,
      "outputs": []
    },
    {
      "cell_type": "code",
      "source": [
        "from sklearn.svm import SVC\n",
        "svc=SVC(gamma=0.001,C=100.)\n",
        "svc.fit(x_train,y_train)\n",
        "y_pred=svc.predict(x_test)\n",
        "y_pred"
      ],
      "metadata": {
        "colab": {
          "base_uri": "https://localhost:8080/"
        },
        "id": "YcoiqUbxAIWn",
        "outputId": "9bc9b988-6896-42d0-f2d5-dcc7e71bdd3f"
      },
      "execution_count": 21,
      "outputs": [
        {
          "output_type": "execute_result",
          "data": {
            "text/plain": [
              "array([2, 8, 2, 6, 6, 7, 1, 9, 8, 5, 2, 8, 6, 6, 6, 6, 1, 0, 5, 8, 8, 7,\n",
              "       8, 4, 7, 5, 4, 9, 2, 9, 4, 7, 6, 8, 9, 4, 3, 1, 0, 1, 8, 6, 7, 7,\n",
              "       1, 0, 7, 6, 2, 1, 9, 6, 7, 9, 0, 0, 5, 1, 6, 3, 0, 2, 3, 4, 1, 9,\n",
              "       7, 6, 9, 1, 8, 3, 5, 1, 2, 8, 2, 2, 9, 7, 2, 3, 6, 0, 5, 3, 7, 5,\n",
              "       1, 2, 9, 9, 3, 1, 7, 7, 4, 8, 5, 8, 5, 5, 2, 5, 9, 0, 7, 1, 4, 7,\n",
              "       3, 4, 8, 9, 7, 9, 8, 2, 6, 5, 2, 5, 8, 4, 1, 7, 0, 6, 1, 5, 9, 9,\n",
              "       9, 5, 9, 9, 5, 7, 5, 6, 2, 8, 6, 9, 6, 1, 5, 1, 5, 9, 9, 1, 5, 3,\n",
              "       6, 1, 8, 9, 8, 7, 6, 7, 6, 5, 6, 0, 8, 8, 9, 8, 6, 1, 0, 4, 1, 6,\n",
              "       3, 8, 6, 7, 4, 9, 6, 3, 0, 3, 3, 3, 0, 7, 7, 5, 7, 8, 0, 7, 8, 9,\n",
              "       6, 4, 5, 0, 1, 4, 6, 4, 3, 3, 0, 9, 5, 9, 2, 1, 4, 2, 1, 6, 8, 9,\n",
              "       2, 4, 9, 3, 7, 6, 2, 3, 3, 1, 6, 9, 3, 6, 3, 2, 2, 0, 7, 6, 1, 1,\n",
              "       9, 7, 2, 7, 8, 5, 5, 7, 5, 2, 3, 7, 2, 7, 5, 5, 7, 0, 9, 1, 6, 5,\n",
              "       9, 7, 4, 3, 8, 0, 3, 6, 4, 6, 3, 2, 6, 8, 8, 8, 4, 6, 7, 5, 2, 4,\n",
              "       5, 3, 2, 4, 6, 9, 4, 5, 4, 3, 4, 6, 2, 9, 0, 1, 7, 2, 0, 9, 6, 0,\n",
              "       4, 2, 0, 7, 9, 8, 5, 4, 8, 2, 8, 4, 3, 7, 2, 6, 9, 1, 5, 1, 0, 8,\n",
              "       2, 1, 9, 5, 6, 8, 2, 7, 2, 1, 5, 1, 6, 4, 5, 0, 9, 4, 1, 1, 7, 0,\n",
              "       8, 9, 0, 5, 4, 3, 8, 8, 6, 5, 3, 4, 4, 4, 8, 8, 7, 0, 9, 6, 3, 5,\n",
              "       2, 3, 0, 8, 2, 3, 1, 3, 3, 0, 0, 4, 6, 0, 7, 7, 6, 2, 0, 4, 4, 2,\n",
              "       3, 7, 8, 9, 8, 6, 8, 5, 6, 2, 2, 3, 1, 7, 7, 8, 0, 3, 3, 2, 1, 5,\n",
              "       5, 9, 1, 3, 7, 0, 0, 7, 0, 4, 5, 9, 3, 3, 4, 3, 1, 8, 9, 8, 3, 6,\n",
              "       2, 1, 6, 2, 1, 7, 5, 5, 1, 9, 2, 8, 9, 7, 2, 1, 4, 9, 3, 2, 6, 2,\n",
              "       5, 9, 6, 5, 8, 2, 0, 7, 8, 0, 6, 8, 4, 1, 8, 6, 4, 3, 4, 2, 0, 4,\n",
              "       5, 8, 3, 9, 1, 8, 3, 4, 5, 0, 8, 5, 6, 3, 0, 6, 9, 1, 5, 1, 2, 1,\n",
              "       9, 8, 4, 3, 3, 0, 7, 8, 8, 1, 1, 3, 5, 5, 8, 4, 9, 7, 8, 4, 4, 9,\n",
              "       0, 1, 6, 9, 3, 6, 1, 7, 0, 6, 2, 9, 9, 3, 6, 1, 5, 1, 8, 9, 1, 4,\n",
              "       1, 7, 2, 8, 0, 6, 2, 1, 0, 6, 1, 6, 5, 2, 8, 6, 2, 1, 4, 6, 8, 2,\n",
              "       2, 7, 5, 9, 1, 9, 5, 0, 2, 5, 5, 6, 8, 9, 5, 7, 0, 5, 2, 1, 1, 2,\n",
              "       8, 8, 2, 1, 5, 5, 2, 7, 1, 4, 4, 1, 3, 5, 6, 7, 4, 6, 7, 3, 5, 7,\n",
              "       1, 5, 5, 3, 8, 5, 2, 3, 5, 4, 4, 6, 5, 1, 4, 1, 8, 3, 3, 1, 4, 8,\n",
              "       9, 2, 9, 4, 9, 4, 8, 0, 3, 3, 2, 0, 6, 6, 8, 6, 5, 9, 0, 3, 2, 5,\n",
              "       6, 9, 5, 4, 3, 3, 9, 9, 2, 7, 9, 9, 1, 1, 5, 9, 1, 0, 4, 1, 7, 4,\n",
              "       3, 8, 6, 5, 5, 5, 3, 5, 0, 0, 5, 0, 0, 3, 5, 2, 3, 4, 6, 5, 8, 5,\n",
              "       0, 9, 9, 1, 5, 0, 5, 0, 8, 7, 7, 5, 2, 7, 8, 6, 5, 3, 0, 2, 9, 7,\n",
              "       7, 4, 0, 0, 6, 1, 1, 3, 4, 1, 8, 7, 5, 1, 0, 8, 0, 9, 0, 9, 3, 0,\n",
              "       0, 6, 4, 5, 3, 8, 0, 9, 0, 3, 2, 0, 4, 0, 3, 3, 2, 2, 0, 5, 3, 2,\n",
              "       3, 6, 5, 0, 4, 2, 7, 9, 1, 5, 8, 2, 1, 2, 2, 6, 0, 1, 1, 3, 6, 2,\n",
              "       3, 7, 3, 8, 3, 8, 0, 3, 5, 5, 8, 5, 1, 3, 1, 1, 0, 1, 2, 5, 0, 0,\n",
              "       4, 8, 0, 5, 7, 9, 5, 0, 2, 5, 2, 7, 3, 6, 8, 7, 5, 5, 0, 0, 7, 0,\n",
              "       9, 3, 6, 2, 9, 1, 1, 9, 1, 6, 8, 3, 3, 2, 4, 4, 8, 9, 6, 6, 6, 8,\n",
              "       9, 2, 4, 5, 0, 0, 7, 7, 4, 4, 7, 3, 1, 1, 9, 7, 0, 4, 9, 2, 9, 3,\n",
              "       5, 3, 6, 3, 8, 2, 0, 0, 2, 4, 9, 8, 5, 2, 2, 9, 5, 9, 5])"
            ]
          },
          "metadata": {},
          "execution_count": 21
        }
      ]
    },
    {
      "cell_type": "code",
      "source": [
        "score=svc.score(x_test,y_pred)\n",
        "print(\"Accuracy Score: {0}\".format(score))"
      ],
      "metadata": {
        "colab": {
          "base_uri": "https://localhost:8080/"
        },
        "id": "6XfTeMwUAgGS",
        "outputId": "24f12560-42ec-4b16-ec6d-a198bc297424"
      },
      "execution_count": 22,
      "outputs": [
        {
          "output_type": "stream",
          "name": "stdout",
          "text": [
            "Accuracy Score: 1.0\n"
          ]
        }
      ]
    },
    {
      "cell_type": "markdown",
      "source": [
        "**Case-3:** Here we have split the data by assigning 0.9 as a test size"
      ],
      "metadata": {
        "id": "LEcK1IbYA0jI"
      }
    },
    {
      "cell_type": "code",
      "source": [
        "from sklearn.model_selection import train_test_split\n",
        "x_train, x_test, y_train, y_test = train_test_split(digits.data, digits.target, test_size=0.9, random_state=0)\n",
        "from sklearn import svm\n",
        "svc = svm.SVC(gamma=0.001, C=100.)\n",
        "svc.fit(x_train, y_train)\n",
        "y_pred = svc.predict(x_test)"
      ],
      "metadata": {
        "id": "ymVVPX9qBn_v"
      },
      "execution_count": 43,
      "outputs": []
    },
    {
      "cell_type": "code",
      "source": [
        "y_pred"
      ],
      "metadata": {
        "colab": {
          "base_uri": "https://localhost:8080/"
        },
        "id": "ODskRaw_EXls",
        "outputId": "01d0c9b5-c927-4327-81cc-6a54fe658e26"
      },
      "execution_count": 44,
      "outputs": [
        {
          "output_type": "execute_result",
          "data": {
            "text/plain": [
              "array([2, 8, 2, ..., 4, 6, 8])"
            ]
          },
          "metadata": {},
          "execution_count": 44
        }
      ]
    },
    {
      "cell_type": "code",
      "source": [
        "score=svc.score(x_test,y_pred)\n",
        "print(\"Accuracy score: {0}\".format(score))"
      ],
      "metadata": {
        "colab": {
          "base_uri": "https://localhost:8080/"
        },
        "id": "BEp6NrOyEfx1",
        "outputId": "c61e751c-ef0a-4e61-c38d-9055ced49b61"
      },
      "execution_count": 46,
      "outputs": [
        {
          "output_type": "stream",
          "name": "stdout",
          "text": [
            "Accuracy score: 1.0\n"
          ]
        }
      ]
    },
    {
      "cell_type": "markdown",
      "source": [
        "**Conclusion:** Digit dataset of Scikit-Learn's library predicts the digits accurately 95% of the time."
      ],
      "metadata": {
        "id": "kbsvZGQIND9F"
      }
    }
  ]
}